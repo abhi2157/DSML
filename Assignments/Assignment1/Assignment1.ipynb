{
  "nbformat": 4,
  "nbformat_minor": 0,
  "metadata": {
    "colab": {
      "provenance": []
    },
    "kernelspec": {
      "name": "python3",
      "display_name": "Python 3"
    },
    "language_info": {
      "name": "python"
    }
  },
  "cells": [
    {
      "cell_type": "code",
      "execution_count": null,
      "metadata": {
        "id": "qWZBynoS2Kmi"
      },
      "outputs": [],
      "source": [
        "import pandas as pd\n",
        "\n",
        "data_csv = pd.read_csv(\"file.csv\")"
      ]
    },
    {
      "cell_type": "code",
      "source": [
        "# Indexing and selecting data\n",
        "subset_data = data_csv[[\"ID\", \"Age\"]]\n",
        "\n",
        "# Sorting data\n",
        "sorted_data = data_csv.sort_values(by=\"ID\")"
      ],
      "metadata": {
        "id": "W-pFWCRQ2wal"
      },
      "execution_count": null,
      "outputs": []
    },
    {
      "cell_type": "code",
      "source": [
        "#Describing attributes\n",
        "data_csv.describe()\n",
        "\n",
        "# Checking data types\n",
        "data_csv.dtypes"
      ],
      "metadata": {
        "colab": {
          "base_uri": "https://localhost:8080/"
        },
        "id": "IK8ayHKE3ArI",
        "outputId": "ac393ec2-9b60-402b-ad59-be9432582f37"
      },
      "execution_count": null,
      "outputs": [
        {
          "output_type": "execute_result",
          "data": {
            "text/plain": [
              "ID             int64\n",
              "Name          object\n",
              "Age            int64\n",
              "Department    object\n",
              "Salary         int64\n",
              "dtype: object"
            ]
          },
          "metadata": {},
          "execution_count": 6
        }
      ]
    },
    {
      "cell_type": "code",
      "source": [
        "# Counting unique values\n",
        "unique_values = data_csv[\"ID\"].value_counts()\n",
        "\n",
        "# Converting data type\n",
        "data_csv[\"Name\"] = data_csv[\"Name\"].astype(str)"
      ],
      "metadata": {
        "id": "3nPKRsac3FXT"
      },
      "execution_count": null,
      "outputs": []
    },
    {
      "cell_type": "code",
      "source": [
        "import pandas as pd\n",
        "\n",
        "# Identify missing values\n",
        "missing_values = data_csv.isnull()\n",
        "\n",
        "# Convert non-numeric columns to numeric\n",
        "data_csv_numeric = data_csv.select_dtypes(include='number')\n",
        "\n",
        "# Fill missing values with mean for numeric columns\n",
        "data_csv_numeric.fillna(data_csv_numeric.mean(), inplace=True)\n",
        "\n",
        "# Update original dataframe with filled values\n",
        "data_csv[data_csv_numeric.columns] = data_csv_numeric\n",
        "\n",
        "# Show dataframe with filled missing values\n",
        "print(data_csv)"
      ],
      "metadata": {
        "colab": {
          "base_uri": "https://localhost:8080/"
        },
        "id": "utISAPKN3O9r",
        "outputId": "cc1cc7bb-616f-467f-9389-bfa210ded173"
      },
      "execution_count": null,
      "outputs": [
        {
          "output_type": "stream",
          "name": "stdout",
          "text": [
            "   ID     Name  Age Department  Salary\n",
            "0   1     John   35  Marketing   50000\n",
            "1   2    Alice   28    Finance   60000\n",
            "2   3      Bob   42         HR   55000\n",
            "3   4     Lisa   39         IT   70000\n",
            "4   5  Michael   45    Finance   62000\n",
            "5   6    Sarah   33  Marketing   51000\n",
            "6   7    David   40         IT   72000\n",
            "7   8     Emma   31         HR   56000\n",
            "8   9    James   36  Marketing   52000\n",
            "9  10   Olivia   29    Finance   63000\n"
          ]
        }
      ]
    }
  ]
}